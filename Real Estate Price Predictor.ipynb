{
 "cells": [
  {
   "cell_type": "code",
   "execution_count": 1,
   "metadata": {},
   "outputs": [],
   "source": [
    "import pandas as pd\n",
    "import numpy as np"
   ]
  },
  {
   "cell_type": "markdown",
   "metadata": {},
   "source": [
    "## Importing the training data and performing basic EDA"
   ]
  },
  {
   "cell_type": "code",
   "execution_count": 2,
   "metadata": {},
   "outputs": [
    {
     "data": {
      "text/html": [
       "<div>\n",
       "<style scoped>\n",
       "    .dataframe tbody tr th:only-of-type {\n",
       "        vertical-align: middle;\n",
       "    }\n",
       "\n",
       "    .dataframe tbody tr th {\n",
       "        vertical-align: top;\n",
       "    }\n",
       "\n",
       "    .dataframe thead th {\n",
       "        text-align: right;\n",
       "    }\n",
       "</style>\n",
       "<table border=\"1\" class=\"dataframe\">\n",
       "  <thead>\n",
       "    <tr style=\"text-align: right;\">\n",
       "      <th></th>\n",
       "      <th>Id</th>\n",
       "      <th>MSSubClass</th>\n",
       "      <th>MSZoning</th>\n",
       "      <th>LotFrontage</th>\n",
       "      <th>LotArea</th>\n",
       "      <th>Street</th>\n",
       "      <th>Alley</th>\n",
       "      <th>LotShape</th>\n",
       "      <th>LandContour</th>\n",
       "      <th>Utilities</th>\n",
       "      <th>...</th>\n",
       "      <th>PoolArea</th>\n",
       "      <th>PoolQC</th>\n",
       "      <th>Fence</th>\n",
       "      <th>MiscFeature</th>\n",
       "      <th>MiscVal</th>\n",
       "      <th>MoSold</th>\n",
       "      <th>YrSold</th>\n",
       "      <th>SaleType</th>\n",
       "      <th>SaleCondition</th>\n",
       "      <th>SalePrice</th>\n",
       "    </tr>\n",
       "  </thead>\n",
       "  <tbody>\n",
       "    <tr>\n",
       "      <th>0</th>\n",
       "      <td>1</td>\n",
       "      <td>60</td>\n",
       "      <td>RL</td>\n",
       "      <td>65.0</td>\n",
       "      <td>8450</td>\n",
       "      <td>Pave</td>\n",
       "      <td>NaN</td>\n",
       "      <td>Reg</td>\n",
       "      <td>Lvl</td>\n",
       "      <td>AllPub</td>\n",
       "      <td>...</td>\n",
       "      <td>0</td>\n",
       "      <td>NaN</td>\n",
       "      <td>NaN</td>\n",
       "      <td>NaN</td>\n",
       "      <td>0</td>\n",
       "      <td>2</td>\n",
       "      <td>2008</td>\n",
       "      <td>WD</td>\n",
       "      <td>Normal</td>\n",
       "      <td>208500</td>\n",
       "    </tr>\n",
       "    <tr>\n",
       "      <th>1</th>\n",
       "      <td>2</td>\n",
       "      <td>20</td>\n",
       "      <td>RL</td>\n",
       "      <td>80.0</td>\n",
       "      <td>9600</td>\n",
       "      <td>Pave</td>\n",
       "      <td>NaN</td>\n",
       "      <td>Reg</td>\n",
       "      <td>Lvl</td>\n",
       "      <td>AllPub</td>\n",
       "      <td>...</td>\n",
       "      <td>0</td>\n",
       "      <td>NaN</td>\n",
       "      <td>NaN</td>\n",
       "      <td>NaN</td>\n",
       "      <td>0</td>\n",
       "      <td>5</td>\n",
       "      <td>2007</td>\n",
       "      <td>WD</td>\n",
       "      <td>Normal</td>\n",
       "      <td>181500</td>\n",
       "    </tr>\n",
       "    <tr>\n",
       "      <th>2</th>\n",
       "      <td>3</td>\n",
       "      <td>60</td>\n",
       "      <td>RL</td>\n",
       "      <td>68.0</td>\n",
       "      <td>11250</td>\n",
       "      <td>Pave</td>\n",
       "      <td>NaN</td>\n",
       "      <td>IR1</td>\n",
       "      <td>Lvl</td>\n",
       "      <td>AllPub</td>\n",
       "      <td>...</td>\n",
       "      <td>0</td>\n",
       "      <td>NaN</td>\n",
       "      <td>NaN</td>\n",
       "      <td>NaN</td>\n",
       "      <td>0</td>\n",
       "      <td>9</td>\n",
       "      <td>2008</td>\n",
       "      <td>WD</td>\n",
       "      <td>Normal</td>\n",
       "      <td>223500</td>\n",
       "    </tr>\n",
       "    <tr>\n",
       "      <th>3</th>\n",
       "      <td>4</td>\n",
       "      <td>70</td>\n",
       "      <td>RL</td>\n",
       "      <td>60.0</td>\n",
       "      <td>9550</td>\n",
       "      <td>Pave</td>\n",
       "      <td>NaN</td>\n",
       "      <td>IR1</td>\n",
       "      <td>Lvl</td>\n",
       "      <td>AllPub</td>\n",
       "      <td>...</td>\n",
       "      <td>0</td>\n",
       "      <td>NaN</td>\n",
       "      <td>NaN</td>\n",
       "      <td>NaN</td>\n",
       "      <td>0</td>\n",
       "      <td>2</td>\n",
       "      <td>2006</td>\n",
       "      <td>WD</td>\n",
       "      <td>Abnorml</td>\n",
       "      <td>140000</td>\n",
       "    </tr>\n",
       "    <tr>\n",
       "      <th>4</th>\n",
       "      <td>5</td>\n",
       "      <td>60</td>\n",
       "      <td>RL</td>\n",
       "      <td>84.0</td>\n",
       "      <td>14260</td>\n",
       "      <td>Pave</td>\n",
       "      <td>NaN</td>\n",
       "      <td>IR1</td>\n",
       "      <td>Lvl</td>\n",
       "      <td>AllPub</td>\n",
       "      <td>...</td>\n",
       "      <td>0</td>\n",
       "      <td>NaN</td>\n",
       "      <td>NaN</td>\n",
       "      <td>NaN</td>\n",
       "      <td>0</td>\n",
       "      <td>12</td>\n",
       "      <td>2008</td>\n",
       "      <td>WD</td>\n",
       "      <td>Normal</td>\n",
       "      <td>250000</td>\n",
       "    </tr>\n",
       "  </tbody>\n",
       "</table>\n",
       "<p>5 rows × 81 columns</p>\n",
       "</div>"
      ],
      "text/plain": [
       "   Id  MSSubClass MSZoning  LotFrontage  LotArea Street Alley LotShape  \\\n",
       "0   1          60       RL         65.0     8450   Pave   NaN      Reg   \n",
       "1   2          20       RL         80.0     9600   Pave   NaN      Reg   \n",
       "2   3          60       RL         68.0    11250   Pave   NaN      IR1   \n",
       "3   4          70       RL         60.0     9550   Pave   NaN      IR1   \n",
       "4   5          60       RL         84.0    14260   Pave   NaN      IR1   \n",
       "\n",
       "  LandContour Utilities  ... PoolArea PoolQC Fence MiscFeature MiscVal MoSold  \\\n",
       "0         Lvl    AllPub  ...        0    NaN   NaN         NaN       0      2   \n",
       "1         Lvl    AllPub  ...        0    NaN   NaN         NaN       0      5   \n",
       "2         Lvl    AllPub  ...        0    NaN   NaN         NaN       0      9   \n",
       "3         Lvl    AllPub  ...        0    NaN   NaN         NaN       0      2   \n",
       "4         Lvl    AllPub  ...        0    NaN   NaN         NaN       0     12   \n",
       "\n",
       "  YrSold  SaleType  SaleCondition  SalePrice  \n",
       "0   2008        WD         Normal     208500  \n",
       "1   2007        WD         Normal     181500  \n",
       "2   2008        WD         Normal     223500  \n",
       "3   2006        WD        Abnorml     140000  \n",
       "4   2008        WD         Normal     250000  \n",
       "\n",
       "[5 rows x 81 columns]"
      ]
     },
     "execution_count": 2,
     "metadata": {},
     "output_type": "execute_result"
    }
   ],
   "source": [
    "# import train.csv file as pandas Dataframe\n",
    "houses = pd.read_csv('train.csv', encoding='latin-1')\n",
    "houses.head()"
   ]
  },
  {
   "cell_type": "code",
   "execution_count": 3,
   "metadata": {},
   "outputs": [
    {
     "name": "stdout",
     "output_type": "stream",
     "text": [
      "number of duplicate rows:  0\n"
     ]
    }
   ],
   "source": [
    "# check for duplicate data\n",
    "duplicate_rows_houses = houses[houses.duplicated()]\n",
    "print(\"number of duplicate rows: \", duplicate_rows_houses.shape[0])"
   ]
  },
  {
   "cell_type": "markdown",
   "metadata": {},
   "source": [
    "I have decided to remove all non-numeric columns from my analysis for the sake of convenience. As we can see, the dataset has enough important quantitative variables to work with, so including all qualitative variables into will likely result in overfitting and decrease the result accuracy. Moreover, I have tried to perform one-hot encoding for all non-numeric columns and put the new modified dataset (287 columns) to train the model. Everything goes well until I want to make predictions with my model because, for some reason, the same function *pd.get_dummies()* creates 267 columns when I input the test set as a parameter. This results in a ValueError because number of features of the model does not match the input (287 vs. 267). A potential improvement to this algorithm is to determine what variables in the dataset matter the most by looking at the tree visualization and finding out what variables are being used to make decisions. Most likely, we will see that there are only a few columns that really matter in this case. Thus, those values should be used by the new model. "
   ]
  },
  {
   "cell_type": "code",
   "execution_count": 4,
   "metadata": {},
   "outputs": [
    {
     "name": "stdout",
     "output_type": "stream",
     "text": [
      "Dataset dimensions (#rows, #columns): (1460, 38)\n"
     ]
    }
   ],
   "source": [
    "# drop all qualitative variables\n",
    "houses = houses.select_dtypes(['number'])\n",
    "print(\"Dataset dimensions (#rows, #columns):\",houses.shape)"
   ]
  },
  {
   "cell_type": "code",
   "execution_count": 5,
   "metadata": {},
   "outputs": [
    {
     "name": "stdout",
     "output_type": "stream",
     "text": [
      "['LotFrontage', 'MasVnrArea', 'GarageYrBlt']\n"
     ]
    }
   ],
   "source": [
    "# columns that have null values\n",
    "print(houses.columns[houses.isnull().any()].tolist())"
   ]
  },
  {
   "cell_type": "code",
   "execution_count": 6,
   "metadata": {},
   "outputs": [
    {
     "name": "stdout",
     "output_type": "stream",
     "text": [
      "LotFrontage:  259  null values\n",
      "MasVnrArea:  8  null values\n",
      "GarageYrBlt:  81  null values\n"
     ]
    }
   ],
   "source": [
    "# check how many null values each columns contains\n",
    "print(\"LotFrontage: \", houses['LotFrontage'].isnull().sum(), \" null values\")\n",
    "\n",
    "print(\"MasVnrArea: \", houses['MasVnrArea'].isnull().sum(), \" null values\")\n",
    "\n",
    "print(\"GarageYrBlt: \", houses['GarageYrBlt'].isnull().sum(), \" null values\")"
   ]
  },
  {
   "cell_type": "code",
   "execution_count": 7,
   "metadata": {},
   "outputs": [
    {
     "name": "stdout",
     "output_type": "stream",
     "text": [
      "Removed 2 columns with many null values. Rows: 1460 , columns: 36\n",
      "Removed 8 rows with null values in the 'MasVnrArea' column. Rows: 1452 , columns: 36\n"
     ]
    }
   ],
   "source": [
    "# drop 'LotFrontage' and 'GarageYrBlt' because they have many null values\n",
    "houses.drop(['LotFrontage', 'GarageYrBlt'], axis=1, inplace=True)\n",
    "\n",
    "# check if everything is correct\n",
    "print(\"Removed 2 columns with many null values. Rows:\",\\\n",
    "      houses.shape[0],\", columns:\", houses.shape[1])\n",
    "\n",
    "# delete the rows with null values in the 'MasVnrArea' column\n",
    "# it does not make sense to drop the whole column because it has only 8 null values \n",
    "\n",
    "houses = houses.dropna(axis=0, subset=['MasVnrArea'])\n",
    "\n",
    "# check if everything is correct\n",
    "print(\"Removed 8 rows with null values in the 'MasVnrArea' column. Rows:\",\\\n",
    "      houses.shape[0],\", columns:\", houses.shape[1])"
   ]
  },
  {
   "cell_type": "markdown",
   "metadata": {},
   "source": [
    "## Training the model"
   ]
  },
  {
   "cell_type": "code",
   "execution_count": 8,
   "metadata": {},
   "outputs": [],
   "source": [
    "# initialize the response variable (values we want to predict — price)\n",
    "tr_response = np.array(houses['SalePrice'])\n",
    "\n",
    "# initialize the predictors (all other variables from the dataset)\n",
    "tr_predictors = houses.drop('SalePrice', axis=1)\n",
    "\n",
    "tr_predictors = np.array(tr_predictors)"
   ]
  },
  {
   "cell_type": "code",
   "execution_count": 9,
   "metadata": {},
   "outputs": [
    {
     "data": {
      "text/plain": [
       "RandomForestRegressor(bootstrap=True, criterion='mse', max_depth=None,\n",
       "                      max_features='auto', max_leaf_nodes=None,\n",
       "                      min_impurity_decrease=0.0, min_impurity_split=None,\n",
       "                      min_samples_leaf=1, min_samples_split=2,\n",
       "                      min_weight_fraction_leaf=0.0, n_estimators=1000,\n",
       "                      n_jobs=None, oob_score=False, random_state=42, verbose=0,\n",
       "                      warm_start=False)"
      ]
     },
     "execution_count": 9,
     "metadata": {},
     "output_type": "execute_result"
    }
   ],
   "source": [
    "# import the model \n",
    "from sklearn.ensemble import RandomForestRegressor\n",
    "\n",
    "# instantiate model with 1000 decision trees\n",
    "tr_model = RandomForestRegressor(n_estimators = 1000, random_state = 42)\n",
    "\n",
    "# train the model on training data\n",
    "tr_model.fit(tr_predictors, tr_response)"
   ]
  },
  {
   "cell_type": "markdown",
   "metadata": {},
   "source": [
    "## Importing the test data and performing basic EDA"
   ]
  },
  {
   "cell_type": "code",
   "execution_count": 10,
   "metadata": {},
   "outputs": [
    {
     "name": "stdout",
     "output_type": "stream",
     "text": [
      "Dataset dimensions (#rows, #columns): (1459, 37)\n",
      "['LotFrontage', 'MasVnrArea', 'BsmtFinSF1', 'BsmtFinSF2', 'BsmtUnfSF', 'TotalBsmtSF', 'BsmtFullBath', 'BsmtHalfBath', 'GarageYrBlt', 'GarageCars', 'GarageArea']\n"
     ]
    }
   ],
   "source": [
    "# import test.csv file as pandas Dataframe\n",
    "houses_test = pd.read_csv('test.csv', encoding='latin-1')\n",
    "\n",
    "# drop all qualitative variables\n",
    "houses_test = houses_test.select_dtypes(['number'])\n",
    "\n",
    "print(\"Dataset dimensions (#rows, #columns):\",houses_test.shape)\n",
    "\n",
    "# columns that have null values \n",
    "print(houses_test.columns[houses_test.isnull().any()].tolist())"
   ]
  },
  {
   "cell_type": "code",
   "execution_count": 11,
   "metadata": {},
   "outputs": [
    {
     "name": "stdout",
     "output_type": "stream",
     "text": [
      "LotFrontage:  227  null values\n",
      "MasVnrArea:  15  null values\n",
      "BsmtFinSF1:  1  null values\n",
      "BsmtFinSF2:  1  null values\n",
      "BsmtUnfSF:  1  null values\n",
      "TotalBsmtSF:  1  null values\n",
      "BsmtFullBath:  2  null values\n",
      "BsmtHalfBath:  2  null values\n",
      "GarageYrBlt:  78  null values\n",
      "GarageCars:  1  null values\n",
      "GarageArea:  1  null values\n"
     ]
    }
   ],
   "source": [
    "# check how many null values each columns contains\n",
    "print(\"LotFrontage: \", houses_test['LotFrontage'].isnull().sum(), \" null values\")\n",
    "print(\"MasVnrArea: \", houses_test['MasVnrArea'].isnull().sum(), \" null values\")\n",
    "print(\"BsmtFinSF1: \", houses_test['BsmtFinSF1'].isnull().sum(), \" null values\")\n",
    "print(\"BsmtFinSF2: \", houses_test['BsmtFinSF2'].isnull().sum(), \" null values\")\n",
    "print(\"BsmtUnfSF: \", houses_test['BsmtUnfSF'].isnull().sum(), \" null values\")\n",
    "print(\"TotalBsmtSF: \", houses_test['TotalBsmtSF'].isnull().sum(), \" null values\")\n",
    "print(\"BsmtFullBath: \", houses_test['BsmtFullBath'].isnull().sum(), \" null values\")\n",
    "print(\"BsmtHalfBath: \", houses_test['BsmtHalfBath'].isnull().sum(), \" null values\")\n",
    "print(\"GarageYrBlt: \", houses_test['GarageYrBlt'].isnull().sum(), \" null values\")\n",
    "print(\"GarageCars: \", houses_test['GarageCars'].isnull().sum(), \" null values\")\n",
    "print(\"GarageArea: \", houses_test['GarageArea'].isnull().sum(), \" null values\")"
   ]
  },
  {
   "cell_type": "code",
   "execution_count": 12,
   "metadata": {},
   "outputs": [
    {
     "name": "stdout",
     "output_type": "stream",
     "text": [
      "Removed 2 columns and a few rows with null values. Rows: 1441 , columns: 35\n"
     ]
    }
   ],
   "source": [
    "# drop 'LotFrontage' and 'GarageYrBlt' because they have many null values\n",
    "houses_test.drop(['LotFrontage', 'GarageYrBlt'], axis=1, inplace=True)\n",
    "\n",
    "# delete the rows with null values in the other columns\n",
    "# it does not make sense to drop all columns because they have a few null values \n",
    "\n",
    "houses_test = houses_test.dropna(axis=0, subset=['MasVnrArea', 'BsmtFinSF1', \\\n",
    "                                                 'BsmtFinSF2', 'BsmtUnfSF', 'TotalBsmtSF', \\\n",
    "                                                 'BsmtFullBath', 'BsmtHalfBath', \\\n",
    "                                                 'GarageCars', 'GarageArea'])\n",
    "\n",
    "# check if everything is correct\n",
    "print(\"Removed 2 columns and a few rows with null values. \" \\\n",
    "\"Rows:\",houses_test.shape[0],\", columns:\", houses_test.shape[1])"
   ]
  },
  {
   "cell_type": "markdown",
   "metadata": {},
   "source": [
    "## Making predictions with the trained model"
   ]
  },
  {
   "cell_type": "code",
   "execution_count": 13,
   "metadata": {},
   "outputs": [],
   "source": [
    "# initialize the predictors (all variables from the test dataset)\n",
    "test_predictors = np.array(houses_test)\n",
    "\n",
    "# make predictions on the test data\n",
    "predictions = tr_model.predict(test_predictors)"
   ]
  },
  {
   "cell_type": "markdown",
   "metadata": {},
   "source": [
    "## Saving results "
   ]
  },
  {
   "cell_type": "code",
   "execution_count": 14,
   "metadata": {},
   "outputs": [
    {
     "data": {
      "text/html": [
       "<div>\n",
       "<style scoped>\n",
       "    .dataframe tbody tr th:only-of-type {\n",
       "        vertical-align: middle;\n",
       "    }\n",
       "\n",
       "    .dataframe tbody tr th {\n",
       "        vertical-align: top;\n",
       "    }\n",
       "\n",
       "    .dataframe thead th {\n",
       "        text-align: right;\n",
       "    }\n",
       "</style>\n",
       "<table border=\"1\" class=\"dataframe\">\n",
       "  <thead>\n",
       "    <tr style=\"text-align: right;\">\n",
       "      <th></th>\n",
       "      <th>Id</th>\n",
       "      <th>SalePrice</th>\n",
       "    </tr>\n",
       "  </thead>\n",
       "  <tbody>\n",
       "    <tr>\n",
       "      <th>0</th>\n",
       "      <td>1461</td>\n",
       "      <td>127235.103</td>\n",
       "    </tr>\n",
       "    <tr>\n",
       "      <th>1</th>\n",
       "      <td>1462</td>\n",
       "      <td>155846.155</td>\n",
       "    </tr>\n",
       "    <tr>\n",
       "      <th>2</th>\n",
       "      <td>1463</td>\n",
       "      <td>183794.458</td>\n",
       "    </tr>\n",
       "    <tr>\n",
       "      <th>3</th>\n",
       "      <td>1464</td>\n",
       "      <td>181342.093</td>\n",
       "    </tr>\n",
       "    <tr>\n",
       "      <th>4</th>\n",
       "      <td>1465</td>\n",
       "      <td>199393.416</td>\n",
       "    </tr>\n",
       "  </tbody>\n",
       "</table>\n",
       "</div>"
      ],
      "text/plain": [
       "     Id   SalePrice\n",
       "0  1461  127235.103\n",
       "1  1462  155846.155\n",
       "2  1463  183794.458\n",
       "3  1464  181342.093\n",
       "4  1465  199393.416"
      ]
     },
     "execution_count": 14,
     "metadata": {},
     "output_type": "execute_result"
    }
   ],
   "source": [
    "# save the result to a prediction.csv file with two columns: Id and SalePrice\n",
    "output = pd.DataFrame({'Id': np.array(houses_test['Id']), 'SalePrice': predictions}, columns=['Id', 'SalePrice'])\n",
    "output.head()"
   ]
  },
  {
   "cell_type": "code",
   "execution_count": 15,
   "metadata": {},
   "outputs": [],
   "source": [
    "output.to_csv(\"prediction.csv\", index=False)"
   ]
  }
 ],
 "metadata": {
  "kernelspec": {
   "display_name": "Python 3",
   "language": "python",
   "name": "python3"
  },
  "language_info": {
   "codemirror_mode": {
    "name": "ipython",
    "version": 3
   },
   "file_extension": ".py",
   "mimetype": "text/x-python",
   "name": "python",
   "nbconvert_exporter": "python",
   "pygments_lexer": "ipython3",
   "version": "3.7.3"
  }
 },
 "nbformat": 4,
 "nbformat_minor": 2
}
